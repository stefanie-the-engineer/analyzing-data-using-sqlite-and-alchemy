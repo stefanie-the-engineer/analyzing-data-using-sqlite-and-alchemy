# Dependencies & Setup
# Matplotlib Inline
%matplotlib inline

# Matplotlib
import matplotlib.pyplot as plt

# Pandas
import pandas as pd
import numpy as np

# Date & Time
import datetime as dt

# CSV
import csv

# Python SQL & Alchemy Object Relational Mapper
import sqlalchemy
from sqlalchemy.ext.automap import automap_base
from sqlalchemy.orm import Session
from sqlalchemy import create_engine, func

# Matplotlib Styles
from matplotlib import style
style.use('fivethirtyeight')

# Reflect Tables into SQLAlchemy ORM
# Create engine
engine = create_engine("sqlite:///Resources/hawaii.sqlite")

# Reflect an existing database into a new model
Base = automap_base()

# Reflect the tables
Base.prepare(engine, reflect = True)

# We can view all of the classes that automap found
Base.classes.keys()

# Save references to each table
Measurement = Base.classes.measurement
Station = Base.classes.station

# Create our session (link) from Python to the DB
session = Session(engine)

# Exploratory Climate Analysis
# Design a query to retrieve the last 12 months of precipitation data and plot the results
# Calculate the date 1 year ago from the last data point in the database
# Need 365 days + 1 - get 366th date
dates_query = session.query(Measurement.date).distinct(Measurement.date).order_by(Measurement.date.desc()).limit(366).all()[-1]

# Print result
print(dates_query)

# Perform a query to retrieve the data and precipitation scores
# Query only retrieving dates and precipitation from using the date obtained from the last query
precipitation_query = session.query(Measurement.date, Measurement.prcp).filter(Measurement.date >= "2016-08-23").order_by(Measurement.date.desc()).all()

# Print the precipitation data from the last 366 days to CSV to show the results
with open("Output/Precipitation_Data_Over_Year.csv", "w") as f:
    out = csv.writer(f)
    out.writerow(["Date", "Precipitation"])

    for row in precipitation_query:
        out.writerow(row)

# Save the query results as a Pandas DataFrame and set the index to the date column
# Create Data Frame
measurements_df = pd.DataFrame(precipitation_query)

# Drop "NaN" values
measurements_df = measurements_df.dropna()

# Set "date" as index
measurements_df = measurements_df.set_index(["date"])

# Sort the Data Frame by date
measurements_df = measurements_df.sort_index()

# Print head of Data Frame to show result
measurements_df.head(20)

# Use Pandas Plotting with Matplotlib to plot the data
# Set figure size
plt.figure(figsize = (20,10))

# Create the bar chart
plt.bar(np.arange(len(precipitation_max_df)), precipitation_max_df["prcp"], label = "precipitation")

# Hide x axis ticks
plt.tick_params(axis = "x", labelbottom = False)

# Give x axis a label
plt.xlabel("date")

# Give plot a legend
plt.legend(loc = "best")

# Show plot
plt.show()

# Save the plot
plt.savefig("../../Images/Year_Bar_Chart.png")

# Summary Statistics
# Use Pandas to calcualte the summary statistics for the precipitation data
precipitation_statistics = measurements_df["prcp"].describe()

# Convert summary series to Data Frame
summary_statistics_df = precipitation_statistics.to_frame()

# Rename "prcp" column to "precipitation"
summary_statistics_df = summary_statistics_df.rename(columns = {"prcp": "precipitation"})

# Print Data Frame
summary_statistics_df

# Station Count
# Design a query to show how many stations are available in this dataset?
station_count_query = session.query(Station).distinct(Station.station).count()

# Print count
print([station_count_query])

# Most Active Stations
# What are the most active stations? (i.e. what stations have the most rows)?
# List the stations and the counts in descending order.
most_active_station_query = session.query(Measurement.station, func.count(Measurement.station)).group_by(Measurement.station).order_by(func.count(Measurement.station).desc())

# Print results
for row in most_active_station_query:
    print(row)
    
# Find statistics of the most active station
# Using the station id from the previous query, calculate the lowest temperature recorded, highest temperature recorded, and average temperature most active station?
most_active_station_query = session.query(func.min(Measurement.tobs), func.max(Measurement.tobs), func.avg(Measurement.tobs)).filter(Measurement.station == "USC00519281")

# Print result
for row in most_active_station_query:
    print(row)
    
# Histogram
# Choose the station with the highest number of temperature observations. Query the last 12 months of temperature observation data for this station and plot the results as a histogram

# Query
greatest_temp_obs_query = session.query(Measurement.tobs).filter(Measurement.station == "USC00519281").filter(Measurement.date >= "2016-08-23").all()

# Print results from query
for x in greatest_temp_obs_query:
    print(x)

# Convert query series to Data Frame
greatest_temp_obs_df = pd.DataFrame(greatest_temp_obs_query)

# Print Data Frame
greatest_temp_obs_df.head(20)

# Create the histogram
plt.hist(greatest_temp_obs_df["tobs"], bins = 12, label = "tobs")

# Give y axis a label for the historgram
plt.ylabel("Frequency")

# Give the historgram a legend
plt.legend(loc = "best")

# Show plot
plt.show()

# Save the plot
plt.savefig("../../Images/Most_Active_Station_Temperature_Count_Histogram.png)

# This function called 'calc_temps' will accept start date and end date in the format "%Y-%m-%d" and return the minimum, average, and maximum temperatures for that range of dates
def calc_temps(start_date, end_date):
    """TMIN, TAVG, and TMAX for a list of dates.
    
    Args:
        start_date (string): A date string in the format %Y-%m-%d
        end_date (string): A date string in the format %Y-%m-%d
        
    Returns:
        TMIN, TAVE, and TMAX
    """
    return session.query(func.min(Measurement.tobs), func.avg(Measurement.tobs), func.max(Measurement.tobs)).filter(Measurement.date >= start_date).filter(Measurement.date <= end_date).all()

# Function usage example
print(calc_temps("2012-02-28", "2012-03-05"))

# Use your previous function "calc_temps" to calculate the tmin, tavg, and tmax for your trip using the previous year's data for those same dates
# My trip dates will be March 23, 2018 to April 2, 2018
# So the previous year's dates will be "2017-03-23" and "2017-04-02"
print(calc_temps("2017-03-23", "2017-04-02"))

# Bar Chart
# Plot the results from your previous query as a bar chart


























# Weather Station Information
# Calculate the total amount of rainfall per weather station for your trip dates using the previous year's matching dates
# Sort this in descending order by precipitation amount and list the station, name, latitude, longitude, and elevation
# My trip dates will be March 23, 2018 to April 2, 2018
# So the previous year's dates will be "2017-03-23" and "2017-04-02"
weather_station_information_query = session.query(Station.station, Station.name, Station.latitude, Station.longitude, Station.elevation, Measurement.prcp).filter(Station.station == Measurement.station).filter(Measurement.date >= "2017-03-23").filter(Measurement.date <= "2017-04-02").filter(Measurement.prcp != "None").filter(Measurement.prcp != 0.0).group_by(Station.station).order_by(Measurement.prcp.desc())

# Print results
for row in weather_station_information_query:
    print(row)
      